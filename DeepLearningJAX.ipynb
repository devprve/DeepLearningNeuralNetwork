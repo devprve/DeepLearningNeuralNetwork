{
  "nbformat": 4,
  "nbformat_minor": 0,
  "metadata": {
    "colab": {
      "provenance": []
    },
    "kernelspec": {
      "name": "python3",
      "display_name": "Python 3"
    },
    "language_info": {
      "name": "python"
    }
  },
  "cells": [
    {
      "cell_type": "markdown",
      "source": [
        "Write a colab with JAX only but using high level api\n",
        "\n",
        " "
      ],
      "metadata": {
        "id": "zCTr93M5R5DE"
      }
    },
    {
      "cell_type": "code",
      "source": [
        "import jax.numpy as jnp\n",
        "from jax import jit\n",
        "\n",
        "# Define a function to square each element of a numpy array\n",
        "def square(x):\n",
        "  return x**2\n",
        "\n",
        "# Convert the function to a JAX function using jit\n",
        "jit_square = jit(square)\n",
        "\n",
        "# Create a numpy array\n",
        "x = jnp.array([1, 2, 3])\n",
        "\n",
        "# Calculate the square of each element using the original numpy function\n",
        "print(square(x)) # Output: [1 4 9]\n",
        "\n",
        "# Calculate the square of each element using the JAX-compiled function\n",
        "print(jit_square(x)) # Output: [1 4 9]\n"
      ],
      "metadata": {
        "colab": {
          "base_uri": "https://localhost:8080/"
        },
        "id": "LTWWWpf3OUCx",
        "outputId": "e8b741e8-a8c6-4cea-fd75-16e80393712f"
      },
      "execution_count": 28,
      "outputs": [
        {
          "output_type": "stream",
          "name": "stdout",
          "text": [
            "[1 4 9]\n",
            "[1 4 9]\n"
          ]
        }
      ]
    }
  ]
}